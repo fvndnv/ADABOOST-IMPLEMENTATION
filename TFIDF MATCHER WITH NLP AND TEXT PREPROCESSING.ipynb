{
  "nbformat": 4,
  "nbformat_minor": 0,
  "metadata": {
    "colab": {
      "name": "Welcome to Colaboratory",
      "provenance": [],
      "collapsed_sections": [],
      "toc_visible": true,
      "include_colab_link": true
    },
    "kernelspec": {
      "display_name": "Python 3",
      "name": "python3"
    }
  },
  "cells": [
    {
      "cell_type": "markdown",
      "metadata": {
        "id": "view-in-github",
        "colab_type": "text"
      },
      "source": [
        "<a href=\"https://colab.research.google.com/github/fvndnv/ADABOOST-IMPLEMENTATION/blob/main/TFIDF%20MATCHER%20WITH%20NLP%20AND%20TEXT%20PREPROCESSING.ipynb\" target=\"_parent\"><img src=\"https://colab.research.google.com/assets/colab-badge.svg\" alt=\"Open In Colab\"/></a>"
      ]
    },
    {
      "cell_type": "code",
      "metadata": {
        "id": "X7YslcPNyLO2",
        "outputId": "34e2e81e-69fb-454b-fcd5-dcdbd3d39b96",
        "colab": {
          "base_uri": "https://localhost:8080/",
          "height": 142
        }
      },
      "source": [
        "import pandas as pd\n",
        "df1=pd.read_csv(\"/content/db1.csv\")\n",
        "df1"
      ],
      "execution_count": 80,
      "outputs": [
        {
          "output_type": "execute_result",
          "data": {
            "text/html": [
              "<div>\n",
              "<style scoped>\n",
              "    .dataframe tbody tr th:only-of-type {\n",
              "        vertical-align: middle;\n",
              "    }\n",
              "\n",
              "    .dataframe tbody tr th {\n",
              "        vertical-align: top;\n",
              "    }\n",
              "\n",
              "    .dataframe thead th {\n",
              "        text-align: right;\n",
              "    }\n",
              "</style>\n",
              "<table border=\"1\" class=\"dataframe\">\n",
              "  <thead>\n",
              "    <tr style=\"text-align: right;\">\n",
              "      <th></th>\n",
              "      <th>First Name</th>\n",
              "      <th>Last Name</th>\n",
              "      <th>Address</th>\n",
              "      <th>Gender</th>\n",
              "      <th>Age</th>\n",
              "      <th>DOB</th>\n",
              "      <th>ID</th>\n",
              "      <th>State</th>\n",
              "    </tr>\n",
              "  </thead>\n",
              "  <tbody>\n",
              "    <tr>\n",
              "      <th>0</th>\n",
              "      <td>Raaj</td>\n",
              "      <td>virma</td>\n",
              "      <td>A-Stryt Maayur vihar Deli</td>\n",
              "      <td>Mail</td>\n",
              "      <td>12</td>\n",
              "      <td>1-12-12</td>\n",
              "      <td>100</td>\n",
              "      <td>Noyda</td>\n",
              "    </tr>\n",
              "    <tr>\n",
              "      <th>1</th>\n",
              "      <td>Maneesh</td>\n",
              "      <td>Dhul</td>\n",
              "      <td>B-15 noyda sector 11 pary chowk</td>\n",
              "      <td>Male</td>\n",
              "      <td>13</td>\n",
              "      <td>1-12-14</td>\n",
              "      <td>101</td>\n",
              "      <td>Rai</td>\n",
              "    </tr>\n",
              "    <tr>\n",
              "      <th>2</th>\n",
              "      <td>Raman</td>\n",
              "      <td>Vesh</td>\n",
              "      <td>B block jaipur sector 15</td>\n",
              "      <td>Male</td>\n",
              "      <td>45</td>\n",
              "      <td>2-34-45</td>\n",
              "      <td>102</td>\n",
              "      <td>Rome</td>\n",
              "    </tr>\n",
              "  </tbody>\n",
              "</table>\n",
              "</div>"
            ],
            "text/plain": [
              "  First Name Last Name                          Address  ...      DOB   ID  State\n",
              "0       Raaj     virma        A-Stryt Maayur vihar Deli  ...  1-12-12  100  Noyda\n",
              "1    Maneesh      Dhul  B-15 noyda sector 11 pary chowk  ...  1-12-14  101    Rai\n",
              "2      Raman      Vesh         B block jaipur sector 15  ...  2-34-45  102   Rome\n",
              "\n",
              "[3 rows x 8 columns]"
            ]
          },
          "metadata": {
            "tags": []
          },
          "execution_count": 80
        }
      ]
    },
    {
      "cell_type": "code",
      "metadata": {
        "id": "hYpHteTmyWdd",
        "outputId": "5b29066e-24d9-418f-bd84-73236c40d8e3",
        "colab": {
          "base_uri": "https://localhost:8080/",
          "height": 297
        }
      },
      "source": [
        "df2=pd.read_csv(\"/content/db2.csv\")\n",
        "df2"
      ],
      "execution_count": 81,
      "outputs": [
        {
          "output_type": "execute_result",
          "data": {
            "text/html": [
              "<div>\n",
              "<style scoped>\n",
              "    .dataframe tbody tr th:only-of-type {\n",
              "        vertical-align: middle;\n",
              "    }\n",
              "\n",
              "    .dataframe tbody tr th {\n",
              "        vertical-align: top;\n",
              "    }\n",
              "\n",
              "    .dataframe thead th {\n",
              "        text-align: right;\n",
              "    }\n",
              "</style>\n",
              "<table border=\"1\" class=\"dataframe\">\n",
              "  <thead>\n",
              "    <tr style=\"text-align: right;\">\n",
              "      <th></th>\n",
              "      <th>Letter Name</th>\n",
              "      <th>Sir Name</th>\n",
              "      <th>Street Address</th>\n",
              "      <th>Gender</th>\n",
              "      <th>Age</th>\n",
              "      <th>DOB</th>\n",
              "      <th>State</th>\n",
              "      <th>Unique ID</th>\n",
              "    </tr>\n",
              "  </thead>\n",
              "  <tbody>\n",
              "    <tr>\n",
              "      <th>0</th>\n",
              "      <td>Raj</td>\n",
              "      <td>verma</td>\n",
              "      <td>A-Street Mayur Vihar Delhi</td>\n",
              "      <td>Male</td>\n",
              "      <td>30</td>\n",
              "      <td>6-12-1996</td>\n",
              "      <td>Delhi</td>\n",
              "      <td>200</td>\n",
              "    </tr>\n",
              "    <tr>\n",
              "      <th>1</th>\n",
              "      <td>Manish</td>\n",
              "      <td>Dhull</td>\n",
              "      <td>B-15 Noida sector 12 pari chowk</td>\n",
              "      <td>Male</td>\n",
              "      <td>23</td>\n",
              "      <td>1-23-45</td>\n",
              "      <td>Noida</td>\n",
              "      <td>201</td>\n",
              "    </tr>\n",
              "    <tr>\n",
              "      <th>2</th>\n",
              "      <td>raju</td>\n",
              "      <td>Samad</td>\n",
              "      <td>Street 12 dwarka sector 15</td>\n",
              "      <td>Male</td>\n",
              "      <td>25</td>\n",
              "      <td>1-34-54</td>\n",
              "      <td>Haryana</td>\n",
              "      <td>292</td>\n",
              "    </tr>\n",
              "    <tr>\n",
              "      <th>3</th>\n",
              "      <td>Rama</td>\n",
              "      <td>vaish</td>\n",
              "      <td>Gali 12 sector 14 khanpur lucknow</td>\n",
              "      <td>Female</td>\n",
              "      <td>21</td>\n",
              "      <td>1-12-23</td>\n",
              "      <td>Sonipat</td>\n",
              "      <td>203</td>\n",
              "    </tr>\n",
              "    <tr>\n",
              "      <th>4</th>\n",
              "      <td>Akshay</td>\n",
              "      <td>Rohilla</td>\n",
              "      <td>B-12 noida sector 15 Delhi</td>\n",
              "      <td>Male</td>\n",
              "      <td>34</td>\n",
              "      <td>1-23-45</td>\n",
              "      <td>Rome</td>\n",
              "      <td>114</td>\n",
              "    </tr>\n",
              "    <tr>\n",
              "      <th>5</th>\n",
              "      <td>Mahesh</td>\n",
              "      <td>Kumar</td>\n",
              "      <td>A 501 kota rajasthan 113 b block</td>\n",
              "      <td>Male</td>\n",
              "      <td>56</td>\n",
              "      <td>2-45-56</td>\n",
              "      <td>Italy</td>\n",
              "      <td>600</td>\n",
              "    </tr>\n",
              "    <tr>\n",
              "      <th>6</th>\n",
              "      <td>Maneesh</td>\n",
              "      <td>Dhul</td>\n",
              "      <td>B-15 noyda sector 11 pary chowk</td>\n",
              "      <td>Male</td>\n",
              "      <td>13</td>\n",
              "      <td>1-12-23</td>\n",
              "      <td>Rai</td>\n",
              "      <td>344</td>\n",
              "    </tr>\n",
              "    <tr>\n",
              "      <th>7</th>\n",
              "      <td>Raman</td>\n",
              "      <td>Vesh</td>\n",
              "      <td>B block jaipur sector 15</td>\n",
              "      <td>Male</td>\n",
              "      <td>45</td>\n",
              "      <td>12-12-12</td>\n",
              "      <td>Rome</td>\n",
              "      <td>123</td>\n",
              "    </tr>\n",
              "  </tbody>\n",
              "</table>\n",
              "</div>"
            ],
            "text/plain": [
              "  Letter Name Sir Name  ...    State Unique ID\n",
              "0         Raj    verma  ...   Delhi        200\n",
              "1      Manish    Dhull  ...    Noida       201\n",
              "2        raju    Samad  ...  Haryana       292\n",
              "3        Rama    vaish  ...  Sonipat       203\n",
              "4      Akshay  Rohilla  ...     Rome       114\n",
              "5      Mahesh    Kumar  ...    Italy       600\n",
              "6     Maneesh     Dhul  ...      Rai       344\n",
              "7       Raman     Vesh  ...     Rome       123\n",
              "\n",
              "[8 rows x 8 columns]"
            ]
          },
          "metadata": {
            "tags": []
          },
          "execution_count": 81
        }
      ]
    },
    {
      "cell_type": "code",
      "metadata": {
        "id": "74oY-AGmycd5"
      },
      "source": [
        "df1['Combined_dataset1']=df1['First Name'] + \" \" + df1['Last Name'] + \" \" + df1['Address']"
      ],
      "execution_count": 82,
      "outputs": []
    },
    {
      "cell_type": "code",
      "metadata": {
        "id": "SLogMCzYyi7Q",
        "outputId": "482ffd4e-32d4-4e49-bf4c-b3dc032fb4a1",
        "colab": {
          "base_uri": "https://localhost:8080/"
        }
      },
      "source": [
        "!pip3 install nltk"
      ],
      "execution_count": 83,
      "outputs": [
        {
          "output_type": "stream",
          "text": [
            "Requirement already satisfied: nltk in /usr/local/lib/python3.6/dist-packages (3.2.5)\n",
            "Requirement already satisfied: six in /usr/local/lib/python3.6/dist-packages (from nltk) (1.15.0)\n"
          ],
          "name": "stdout"
        }
      ]
    },
    {
      "cell_type": "code",
      "metadata": {
        "id": "3IiBp28EzJcN",
        "outputId": "69546424-dd9e-4793-8098-3ad8b12545f8",
        "colab": {
          "base_uri": "https://localhost:8080/"
        }
      },
      "source": [
        "import nltk \n",
        "nltk.download('stopwords')"
      ],
      "execution_count": 86,
      "outputs": [
        {
          "output_type": "stream",
          "text": [
            "[nltk_data] Downloading package stopwords to /root/nltk_data...\n",
            "[nltk_data]   Unzipping corpora/stopwords.zip.\n"
          ],
          "name": "stdout"
        },
        {
          "output_type": "execute_result",
          "data": {
            "text/plain": [
              "True"
            ]
          },
          "metadata": {
            "tags": []
          },
          "execution_count": 86
        }
      ]
    },
    {
      "cell_type": "code",
      "metadata": {
        "id": "3ewLdWRSyy-A",
        "outputId": "05962283-3ea1-4cb2-cdc9-46d25aba9fee",
        "colab": {
          "base_uri": "https://localhost:8080/"
        }
      },
      "source": [
        "from nltk.corpus import stopwords\n",
        "stop = stopwords.words('english')\n",
        "df1['Combined_dataset1'] = df1['Combined_dataset1'].apply(lambda x: \" \".join(x for x in x.split() if x not in stop))\n",
        "df1['Combined_dataset1'].head()"
      ],
      "execution_count": 87,
      "outputs": [
        {
          "output_type": "execute_result",
          "data": {
            "text/plain": [
              "0            Raaj virma A-Stryt Maayur vihar Deli\n",
              "1    Maneesh Dhul B-15 noyda sector 11 pary chowk\n",
              "2             Raman Vesh B block jaipur sector 15\n",
              "Name: Combined_dataset1, dtype: object"
            ]
          },
          "metadata": {
            "tags": []
          },
          "execution_count": 87
        }
      ]
    },
    {
      "cell_type": "code",
      "metadata": {
        "id": "XgaGiEqdzHXo",
        "outputId": "d68fdb97-43cd-4dbc-89eb-96e14dede08c",
        "colab": {
          "base_uri": "https://localhost:8080/"
        }
      },
      "source": [
        "df1['Combined_dataset1'] = df1['Combined_dataset1'].str.replace('[^\\w\\s]','')\n",
        "df1['Combined_dataset1'].head()"
      ],
      "execution_count": 88,
      "outputs": [
        {
          "output_type": "execute_result",
          "data": {
            "text/plain": [
              "0            Raaj virma AStryt Maayur vihar Deli\n",
              "1    Maneesh Dhul B15 noyda sector 11 pary chowk\n",
              "2            Raman Vesh B block jaipur sector 15\n",
              "Name: Combined_dataset1, dtype: object"
            ]
          },
          "metadata": {
            "tags": []
          },
          "execution_count": 88
        }
      ]
    },
    {
      "cell_type": "code",
      "metadata": {
        "id": "Lql0UphpzpDX"
      },
      "source": [
        "df2['Combined_dataset2']=df2['Letter Name'] + \" \" + df2['Sir Name'] + \" \" + df2['Street Address']"
      ],
      "execution_count": 91,
      "outputs": []
    },
    {
      "cell_type": "code",
      "metadata": {
        "id": "38oPlUsa0Dzj",
        "outputId": "77ce47e3-85ed-43c7-c7f4-267f8172d9c1",
        "colab": {
          "base_uri": "https://localhost:8080/"
        }
      },
      "source": [
        "df2['Combined_dataset2'] = df2['Combined_dataset2'].apply(lambda x: \" \".join(x for x in x.split() if x not in stop))\n",
        "df2['Combined_dataset2'].head()"
      ],
      "execution_count": 92,
      "outputs": [
        {
          "output_type": "execute_result",
          "data": {
            "text/plain": [
              "0            Raj verma A-Street Mayur Vihar Delhi\n",
              "1    Manish Dhull B-15 Noida sector 12 pari chowk\n",
              "2           raju Samad Street 12 dwarka sector 15\n",
              "3    Rama vaish Gali 12 sector 14 khanpur lucknow\n",
              "4       Akshay Rohilla B-12 noida sector 15 Delhi\n",
              "Name: Combined_dataset2, dtype: object"
            ]
          },
          "metadata": {
            "tags": []
          },
          "execution_count": 92
        }
      ]
    },
    {
      "cell_type": "code",
      "metadata": {
        "id": "0L1EFl2G1W-S",
        "outputId": "747624c4-68ab-469b-aceb-702e528c4a3f",
        "colab": {
          "base_uri": "https://localhost:8080/"
        }
      },
      "source": [
        "df2['Combined_dataset2'] = df2['Combined_dataset2'].str.replace('[^\\w\\s]','')\n",
        "df2['Combined_dataset2'].head()"
      ],
      "execution_count": 93,
      "outputs": [
        {
          "output_type": "execute_result",
          "data": {
            "text/plain": [
              "0             Raj verma AStreet Mayur Vihar Delhi\n",
              "1     Manish Dhull B15 Noida sector 12 pari chowk\n",
              "2           raju Samad Street 12 dwarka sector 15\n",
              "3    Rama vaish Gali 12 sector 14 khanpur lucknow\n",
              "4        Akshay Rohilla B12 noida sector 15 Delhi\n",
              "Name: Combined_dataset2, dtype: object"
            ]
          },
          "metadata": {
            "tags": []
          },
          "execution_count": 93
        }
      ]
    },
    {
      "cell_type": "code",
      "metadata": {
        "id": "5-UxeQVV149C",
        "outputId": "3284ac0e-2a44-45df-dc98-ff20cb85c956",
        "colab": {
          "base_uri": "https://localhost:8080/"
        }
      },
      "source": [
        "from textblob import TextBlob\n",
        "from textblob import Word\n",
        "nltk.download('wordnet')"
      ],
      "execution_count": 98,
      "outputs": [
        {
          "output_type": "stream",
          "text": [
            "[nltk_data] Downloading package wordnet to /root/nltk_data...\n",
            "[nltk_data]   Unzipping corpora/wordnet.zip.\n"
          ],
          "name": "stdout"
        },
        {
          "output_type": "execute_result",
          "data": {
            "text/plain": [
              "True"
            ]
          },
          "metadata": {
            "tags": []
          },
          "execution_count": 98
        }
      ]
    },
    {
      "cell_type": "code",
      "metadata": {
        "id": "8pP_-Wba0uAf"
      },
      "source": [
        "df1['Combined_dataset1'] = df1['Combined_dataset1'].apply(lambda x: \" \".join([Word(word).lemmatize() for word in x.split()]))"
      ],
      "execution_count": 99,
      "outputs": []
    },
    {
      "cell_type": "code",
      "metadata": {
        "id": "_gq2-3s_2MKA"
      },
      "source": [
        "df2['Combined_dataset2'] = df2['Combined_dataset2'].apply(lambda x: \" \".join([Word(word).lemmatize() for word in x.split()]))"
      ],
      "execution_count": 100,
      "outputs": []
    },
    {
      "cell_type": "code",
      "metadata": {
        "id": "s3u7yA5m2ezG",
        "outputId": "94a4f442-94a8-4a5b-d4e0-2a4230658218",
        "colab": {
          "base_uri": "https://localhost:8080/"
        }
      },
      "source": [
        "pip install tfidf-matcher"
      ],
      "execution_count": 101,
      "outputs": [
        {
          "output_type": "stream",
          "text": [
            "Requirement already satisfied: tfidf-matcher in /usr/local/lib/python3.6/dist-packages (0.2.1)\n",
            "Requirement already satisfied: sklearn in /usr/local/lib/python3.6/dist-packages (from tfidf-matcher) (0.0)\n",
            "Requirement already satisfied: pandas in /usr/local/lib/python3.6/dist-packages (from tfidf-matcher) (1.1.4)\n",
            "Requirement already satisfied: scikit-learn in /usr/local/lib/python3.6/dist-packages (from sklearn->tfidf-matcher) (0.22.2.post1)\n",
            "Requirement already satisfied: pytz>=2017.2 in /usr/local/lib/python3.6/dist-packages (from pandas->tfidf-matcher) (2018.9)\n",
            "Requirement already satisfied: python-dateutil>=2.7.3 in /usr/local/lib/python3.6/dist-packages (from pandas->tfidf-matcher) (2.8.1)\n",
            "Requirement already satisfied: numpy>=1.15.4 in /usr/local/lib/python3.6/dist-packages (from pandas->tfidf-matcher) (1.18.5)\n",
            "Requirement already satisfied: scipy>=0.17.0 in /usr/local/lib/python3.6/dist-packages (from scikit-learn->sklearn->tfidf-matcher) (1.4.1)\n",
            "Requirement already satisfied: joblib>=0.11 in /usr/local/lib/python3.6/dist-packages (from scikit-learn->sklearn->tfidf-matcher) (0.17.0)\n",
            "Requirement already satisfied: six>=1.5 in /usr/local/lib/python3.6/dist-packages (from python-dateutil>=2.7.3->pandas->tfidf-matcher) (1.15.0)\n"
          ],
          "name": "stdout"
        }
      ]
    },
    {
      "cell_type": "code",
      "metadata": {
        "id": "HoSoaO242nEd"
      },
      "source": [
        "import tfidf_matcher as tm"
      ],
      "execution_count": 102,
      "outputs": []
    },
    {
      "cell_type": "code",
      "metadata": {
        "id": "Mca4sLLQ2psP",
        "outputId": "9fd69109-576b-4054-e0b5-f240409dc699",
        "colab": {
          "base_uri": "https://localhost:8080/",
          "height": 210
        }
      },
      "source": [
        "tm.matcher(df1['Combined_dataset1'],df2['Combined_dataset2'],k_matches=3,ngram_length=3)"
      ],
      "execution_count": 103,
      "outputs": [
        {
          "output_type": "execute_result",
          "data": {
            "text/html": [
              "<div>\n",
              "<style scoped>\n",
              "    .dataframe tbody tr th:only-of-type {\n",
              "        vertical-align: middle;\n",
              "    }\n",
              "\n",
              "    .dataframe tbody tr th {\n",
              "        vertical-align: top;\n",
              "    }\n",
              "\n",
              "    .dataframe thead th {\n",
              "        text-align: right;\n",
              "    }\n",
              "</style>\n",
              "<table border=\"1\" class=\"dataframe\">\n",
              "  <thead>\n",
              "    <tr style=\"text-align: right;\">\n",
              "      <th></th>\n",
              "      <th>Match Confidence</th>\n",
              "      <th>Original Name</th>\n",
              "      <th>Lookup 1</th>\n",
              "      <th>Lookup 2</th>\n",
              "      <th>Lookup 3</th>\n",
              "    </tr>\n",
              "  </thead>\n",
              "  <tbody>\n",
              "    <tr>\n",
              "      <th>0</th>\n",
              "      <td>0.82</td>\n",
              "      <td>Raaj virma AStryt Maayur vihar Deli</td>\n",
              "      <td>Raj verma AStreet Mayur Vihar Delhi</td>\n",
              "      <td>Akshay Rohilla B12 noida sector 15 Delhi</td>\n",
              "      <td>Mahesh Kumar A 501 kota rajasthan 113 b block</td>\n",
              "    </tr>\n",
              "    <tr>\n",
              "      <th>1</th>\n",
              "      <td>1.00</td>\n",
              "      <td>Maneesh Dhul B15 noyda sector 11 pary chowk</td>\n",
              "      <td>Maneesh Dhul B15 noyda sector 11 pary chowk</td>\n",
              "      <td>Manish Dhull B15 Noida sector 12 pari chowk</td>\n",
              "      <td>Akshay Rohilla B12 noida sector 15 Delhi</td>\n",
              "    </tr>\n",
              "    <tr>\n",
              "      <th>2</th>\n",
              "      <td>1.00</td>\n",
              "      <td>Raman Vesh B block jaipur sector 15</td>\n",
              "      <td>Raman Vesh B block jaipur sector 15</td>\n",
              "      <td>Mahesh Kumar A 501 kota rajasthan 113 b block</td>\n",
              "      <td>Rama vaish Gali 12 sector 14 khanpur lucknow</td>\n",
              "    </tr>\n",
              "  </tbody>\n",
              "</table>\n",
              "</div>"
            ],
            "text/plain": [
              "   Match Confidence  ...                                       Lookup 3\n",
              "0              0.82  ...  Mahesh Kumar A 501 kota rajasthan 113 b block\n",
              "1              1.00  ...       Akshay Rohilla B12 noida sector 15 Delhi\n",
              "2              1.00  ...   Rama vaish Gali 12 sector 14 khanpur lucknow\n",
              "\n",
              "[3 rows x 5 columns]"
            ]
          },
          "metadata": {
            "tags": []
          },
          "execution_count": 103
        }
      ]
    },
    {
      "cell_type": "code",
      "metadata": {
        "id": "bjBvvrCV2tza"
      },
      "source": [
        ""
      ],
      "execution_count": null,
      "outputs": []
    }
  ]
}